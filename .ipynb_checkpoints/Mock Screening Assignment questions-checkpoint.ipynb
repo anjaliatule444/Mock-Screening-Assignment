{
 "cells": [
  {
   "cell_type": "markdown",
   "metadata": {},
   "source": [
    "Q1. Create a function in python to read text file and replace specific content of file\n",
    "    File Name- example.txt\n",
    "    origin file content- This is placement assignment\n",
    "    Replace string - Placement should be replaced with screening\n",
    "    Replaced file content - This is screening assignment"
   ]
  },
  {
   "cell_type": "code",
   "execution_count": 40,
   "metadata": {},
   "outputs": [
    {
     "name": "stdout",
     "output_type": "stream",
     "text": [
      "This is screening assignment\n"
     ]
    }
   ],
   "source": [
    "def read_file():\n",
    "    file=open('example.txt')\n",
    "    data=file.read()\n",
    "    splitted_data= data.split(\" \")\n",
    "    final_string=' '\n",
    "    splitted_lower_data=[]\n",
    "    for i in range(len(splitted_data)):\n",
    "        splitted_lower_data.append(splitted_data[i].lower())\n",
    "        f=0\n",
    "        if(splitted_lower_data[i]==\"placement\"):\n",
    "            splitted_data[i]='screening'\n",
    "            f=1\n",
    "            break\n",
    "    final_string=final_string.join(splitted_data)\n",
    "    if(f==0):\n",
    "        print(\" No String Matching with word Placement\")\n",
    "    file.close()\n",
    "    return final_string\n",
    "def write_file(Updated_string):\n",
    "    print(Updated_string)\n",
    "    file=open('example.txt','w')\n",
    "    file.writelines(Updated_string)  \n",
    "New_string=read_file()\n",
    "write_file(New_string)"
   ]
  },
  {
   "cell_type": "code",
   "execution_count": 2,
   "metadata": {},
   "outputs": [
    {
     "data": {
      "text/plain": [
       "'E:\\\\Full stack data science-Python pratice\\\\Mock Screening Assignment'"
      ]
     },
     "execution_count": 2,
     "metadata": {},
     "output_type": "execute_result"
    }
   ],
   "source": [
    "pwd"
   ]
  },
  {
   "cell_type": "code",
   "execution_count": 3,
   "metadata": {},
   "outputs": [
    {
     "name": "stdout",
     "output_type": "stream",
     "text": [
      " Volume in drive E has no label.\n",
      " Volume Serial Number is C4D3-7F16\n",
      "\n",
      " Directory of E:\\Full stack data science-Python pratice\\Mock Screening Assignment\n",
      "\n",
      "06/22/2022  11:07 AM    <DIR>          .\n",
      "06/22/2022  11:07 AM    <DIR>          ..\n",
      "06/22/2022  11:00 AM    <DIR>          .ipynb_checkpoints\n",
      "06/22/2022  11:00 AM                30 example.txt.txt\n",
      "06/22/2022  11:07 AM               991 Untitled.ipynb\n",
      "               2 File(s)          1,021 bytes\n",
      "               3 Dir(s)  367,879,847,936 bytes free\n"
     ]
    }
   ],
   "source": [
    "ls"
   ]
  },
  {
   "cell_type": "code",
   "execution_count": null,
   "metadata": {},
   "outputs": [],
   "source": []
  }
 ],
 "metadata": {
  "kernelspec": {
   "display_name": "Python 3",
   "language": "python",
   "name": "python3"
  },
  "language_info": {
   "codemirror_mode": {
    "name": "ipython",
    "version": 3
   },
   "file_extension": ".py",
   "mimetype": "text/x-python",
   "name": "python",
   "nbconvert_exporter": "python",
   "pygments_lexer": "ipython3",
   "version": "3.8.5"
  }
 },
 "nbformat": 4,
 "nbformat_minor": 4
}
